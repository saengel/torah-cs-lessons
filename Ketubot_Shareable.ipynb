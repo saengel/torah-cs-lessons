{
 "cells": [
  {
   "cell_type": "markdown",
   "metadata": {},
   "source": [
    "# Between Him and Her: A Ketubot Lesson Plan\n",
    "This is a three part lesson, the rough time estimates are approximated after each part. Please augment according to your class pacing and skill level. \n",
    "\n",
    ">Part I: Learning the Mishnah (45 minutes)\n",
    ">\n",
    ">Part II: Automating our Results (25-45 minutes)\n",
    ">\n",
    ">Part III: Error Reporting (10-20 minutes)\n",
    "\n",
    "If your students have more background with coding and computer science, parts two and three can be condensed into one 45 minute period, with a brief introduction of the text beforehand. \n",
    "\n",
    "## Intro to Jupyter Notebook: How to Run My Code\n",
    "To get a brief tour of this notebook, click on the grey box below with the code in it, and then click on the `Run` button on top of the screen. \n",
    "A video should appear below, press play, and enjoy the tour!"
   ]
  },
  {
   "cell_type": "code",
   "execution_count": 1,
   "metadata": {},
   "outputs": [
    {
     "data": {
      "text/html": [
       "<iframe width=\"989\" height=\"300\" src=\"https://www.youtube.com/embed/Lpw6_RK_PKQ\">\n",
       "</iframe>"
      ],
      "text/plain": [
       "<IPython.core.display.HTML object>"
      ]
     },
     "metadata": {},
     "output_type": "display_data"
    }
   ],
   "source": [
    "%%HTML\n",
    "<iframe width=\"989\" height=\"300\" src=\"https://www.youtube.com/embed/Lpw6_RK_PKQ\">\n",
    "</iframe>"
   ]
  },
  {
   "cell_type": "markdown",
   "metadata": {},
   "source": [
    "## Part One: Learning the Mishnah\n",
    "\n",
    "<div style=\"text-align: right; font-size:16px;\">\n",
    "    \n",
    "<h4 style=\"font-size:18px;\"> כתובות נ״ט ב:ו׳-ז׳ </h4>\n",
    "\n",
    "```text                                         \n",
    "מתני׳ ואלו מלאכות שהאשה עושה לבעלה טוחנת ואופה ומכבסת מבשלת ומניקה את בנה מצעת לו המטה ועושה בצמר \n",
    "הכניסה לו שפחה אחת לא טוחנת ולא אופה ולא מכבסת \n",
    "שתים אין מבשלת ואין מניקה את בנה \n",
    "שלש אין מצעת לו המטה ואין עושה בצמר \n",
    "ארבע יושבת בקתדרא \n",
    "רבי אליעזר אומר אפי' הכניסה לו מאה שפחות כופה לעשות בצמר שהבטלה מביאה לידי זימה \n",
    "רשב\"ג אומר אף המדיר את אשתו מלעשות מלאכה יוציא ויתן כתובה שהבטלה מביאה לידי שיעמום \n",
    "```\n",
    "\n",
    "\n",
    "\n",
    "</div>\n",
    "\n",
    "\n",
    "Read the Mishnah above carefully with your חברותא. Take turns reading it out loud, so that you each have the opportunity to read it and to hear it at least once. Experiment with punctuation (where does each sentence end? Where does a new sentence begin?) and also with meaning (can you translate the words so that they make sense in context?)."
   ]
  },
  {
   "cell_type": "markdown",
   "metadata": {},
   "source": [
    "### Vocabulary: Make sure you know the following words\n",
    "\n",
    "#### Mishna Words\n",
    "- מצעת לו המטה\n",
    "- עושה בצמר\n",
    "- קתדרא\n",
    "- זימה\n",
    "- שעמום\n",
    "- מדירה\n",
    "\n",
    "Please write down any other words from the Mishna that are new to you. Look up the definitions and write them down, so that you can share them in class. This will also help you remember them the next time you come across them in the Gemara! \n",
    "\n",
    "#### Computer Science Words\n",
    "Try using Google to search for these words and see what comes up. \n",
    "- Debugging\n",
    "- Python `print()`\n",
    "- Database\n",
    "- Open Source\n",
    "\n",
    "### Guiding Questions\n",
    "\n",
    "1. Which words in this Mishnah seem to you to have an ambiguous meaning (either because you are not sure what they mean at all, or because you know it could mean more than one thing)? List these words on a sheet of paper.\n",
    "\n",
    "\n",
    "\n",
    "\n",
    "2. How many different cases or situation are described in this Mishnah? What are they?\n",
    "\n",
    "\n",
    "\n",
    "\n",
    "\n",
    "3. Given what you know about real world problem solving, what are some different ways you'd imagine engineers and computer scientists going about debugging code? Is there any relationship between this process and the way we learn Mishnah? Explain.\n",
    "\n",
    "\n",
    "\n",
    "\n",
    "\n",
    "4. For each case in the Mishnah, make note of the ruling that the Mishnah provides - meaning - what is says should be done or is meant to happen in each case.\n",
    "\n",
    "\n",
    "\n",
    "\n",
    "5. Using the information laid out above, create a chart that describes this Mishnah. The chart should have three columns: מקרה (situation or case described), דין (the halakhic ruling, and טעם (the reason behind the ruling). Note: Some boxes may be left empty, depending on how much information the Mishnah provides!\n",
    "\n",
    "\n",
    "\n",
    "\n",
    "## Part Two: Automated Results\n",
    "\n",
    "This Python code below takes the various cases in the Mishnah, and automates them based on the number of servants the woman brings into the marriage. This code is still being `developed` which means it's still sort of like a draft, and may have some errors (that you can help us fix based on your Mishnah knowledge). \n",
    "\n",
    "For now, after you're done learning the Mishnah, just hit run (nothing will be outputted yet), and move down to the next cell. \n",
    "\n",
    "(And once again, if you want to try and understand the behind the scenes of this code, feel free to read the programmer's comments which begin on each line with a `#`)"
   ]
  },
  {
   "cell_type": "code",
   "execution_count": 2,
   "metadata": {},
   "outputs": [],
   "source": [
    "# Declaring the function called requiredLabors\n",
    "# -- It will take two parameters:\n",
    "#        1. The number of servants the woman\n",
    "#           is bringing into the marriage\n",
    "#        2. Optionally, whether or not the husband\n",
    "#           made a vow for his wife not to perform\n",
    "#           any labor. \n",
    "def requiredLabors(numberOfServants, vow = False):\n",
    "    \n",
    "    # This is a special kind of list called a \n",
    "    # dictionary, that stores all of the possible\n",
    "    # labors along with corresponding data which will\n",
    "    # be True or False depending on whether or not the\n",
    "    # woman is obligated in that specific labor\n",
    "    labors = {\n",
    "    \"grind flour\": True, \n",
    "    \"bake\": True,\n",
    "    \"laundry\": True,      \n",
    "    \"cook\": True,\n",
    "    \"nurse kids\": True,\n",
    "    \"prepare beds\": False,    \n",
    "    \"spin thread\": True\n",
    "   }\n",
    "\n",
    "    # If the husband made a \"no labor\" vow, the computer\n",
    "    # saves this statement from the Mishnah as a piece of \n",
    "    # text to output to screen later.\n",
    "    if vow == True:\n",
    "        vowStatement = \"The man in this marriage made a vow that his wife not do any labor\\n\" + \\\n",
    "        \"Rabbi Shimon Ben Gamliel says: יוציא וייתן כתובה\\nHe must divorce her and pay her the ketubah\"\n",
    "    \n",
    "    # If no vow was made, the code checks how\n",
    "    # many servants she's bringing into the marriage\n",
    "    # depending on the number of servants it'll reset\n",
    "    # the Trues to Falses in the dictionary list of \n",
    "    # labors above.\n",
    "    # If the woman has enough servants to totally be\n",
    "    # exempt from all labor, the computer\n",
    "    # saves a statement from the Mishnah as a piece\n",
    "    # of text to output to screen later. \n",
    "    else:\n",
    "        if numberOfServants >= 1:\n",
    "            labors[\"grind flour\"] = False\n",
    "            labors[\"bake\"] = False\n",
    "            labors[\"laundry\"] = False\n",
    "        if numberOfServants >= 2:\n",
    "            labors[\"cook\"] = False\n",
    "            labors[\"nurse kids\"] = False\n",
    "        if numberOfServants >= 3:\n",
    "            labors[\"prepare beds\"] = False\n",
    "            labors[\"spin thread\"] = False\n",
    "            threeServants = \"Has no required labors\"\n",
    "        if numberOfServants >= 4:\n",
    "            fourServants = \"יושבת בקתדרא - She may sit in an easy chair\\n\" +\\\n",
    "            \"Rabbi Akiva says: כופה לעשות בצמר - She must spin thread\"\n",
    "        \n",
    "    # Outputting to screen the title\n",
    "    print(\"Obligations According to the Mishna:\"),\n",
    "    \n",
    "    # Outputting to screen the number of servants\n",
    "    print(\"The woman came in with \" + str(numberOfServants) + \" servant(s).\")\n",
    "    \n",
    "    # Outputting the labors, or relevant pieces of text\n",
    "    # depending on whether or not there was a vow, and how\n",
    "    # many servants the woman has. \n",
    "    if vow:\n",
    "        print(vowStatement)\n",
    "    \n",
    "    elif numberOfServants >= 4: \n",
    "        print(fourServants)\n",
    "        \n",
    "    elif numberOfServants == 3:\n",
    "        print(threeServants)\n",
    "        \n",
    "    else:\n",
    "        print(\"She is obligated to:\")\n",
    "        i = 1\n",
    "        for each in labors:\n",
    "            if labors[each] == True:\n",
    "                print(str(i) + \") \" + each)\n",
    "                i += 1        "
   ]
  },
  {
   "cell_type": "markdown",
   "metadata": {},
   "source": [
    "## Evaluating Our Understanding\n",
    "\n",
    "Lots of code, right? Let's use the space below to use the code above to test our results. After you finish learning the Mishnah and charting out the cases, test your understanding against the code in the cell below. \n",
    "\n",
    "**Reminder:** This code is just a draft, and has (at least) one bug (error) in it. If there are differences between what the code produces and your expected results, go back to the Mishnah to find proof text arguing against the code's results. Write down the errors you find, and highlight the lines in the Mishnah that could help someone correct the errors.  \n",
    "\n",
    "### How to use this code:\n",
    "1. Type the following into the cell below: `requiredLabors()`. This is what's called a function, and it will automatically behind the scenes execute all of the code we wrote out in the box above. \n",
    "2. Then, add the number of servants the woman brought into the marriage between the parenthesis. So, for example, if you want to test a woman's required labors when she brings two servants into the marriage, your code will look like this `requiredLabors(2)`. \n",
    "3. Run the code and compare to your chart...\n",
    "4. Does it match your understanding of the Mishnah? If not, help us debug our code by finding the words in the Mishnah that contradict our code. \n",
    "5. Try, and repeat, with other numbers inside the parenthesis"
   ]
  },
  {
   "cell_type": "code",
   "execution_count": 3,
   "metadata": {},
   "outputs": [
    {
     "name": "stdout",
     "output_type": "stream",
     "text": [
      "Obligations According to the Mishna: The woman came in with 0 servant(s).\n",
      "She is obligated to:\n",
      "1) nurse kids\n",
      "2) laundry\n",
      "3) spin thread\n",
      "4) cook\n",
      "5) grind flour\n",
      "6) bake\n"
     ]
    }
   ],
   "source": [
    "# Type your code on the line below!\n",
    "requiredLabors(0)"
   ]
  },
  {
   "cell_type": "markdown",
   "metadata": {},
   "source": [
    "### The Vow Case\n",
    "\n",
    "If her husband made a vow, you can type it like `requiredLabors(1, vow=True)`. The `1` can be replaced for any number you'd like to test, but make sure you include the `vow=True` parameter. Then, run the code and see what happens!"
   ]
  },
  {
   "cell_type": "code",
   "execution_count": 4,
   "metadata": {},
   "outputs": [
    {
     "name": "stdout",
     "output_type": "stream",
     "text": [
      "Obligations According to the Mishna: The woman came in with 0 servant(s).\n",
      "The man in this marriage made a vow that his wife not do any labor\n",
      "Rabbi Shimon Ben Gamliel says: יוציא וייתן כתובה\n",
      "He must divorce her and pay her the ketubah\n"
     ]
    }
   ],
   "source": [
    "requiredLabors(0, vow=True)"
   ]
  },
  {
   "cell_type": "markdown",
   "metadata": {},
   "source": [
    "## Part Three: Error Reporting\n",
    "One day, you might be a full on computer scientist who can go into the code and fix the bug yourself. For now, you can still help us contribute to debugging the code by emailing us with the problem at _____@mail.com. Our software engineers will fix the problem based on your error reporting. Make sure to cc your teacher on the email...\n",
    "\n",
    "Sample:\n",
    "\n",
    "```Text\n",
    "Hi Ketubot Developers, \n",
    "\n",
    "I just wanted to report a bug I noticed in your code.....\n",
    "\n",
    "[explain the issue]\n",
    "\n",
    "[support your claim with the word(s) from the Mishnah]\n",
    "\n",
    "Thanks so much for developing such great software!\n",
    "- Your Name\n",
    "```"
   ]
  },
  {
   "cell_type": "markdown",
   "metadata": {},
   "source": [
    "### Bonus: Try to Fix the Bug yourself!\n",
    "Using the hints below, try to debug the code yourself by fixing the one word that's giving our whole program trouble. \n",
    "\n",
    "- `Hint #1:` The bug appears in the code before the `    if vow == True:` line in the code. \n",
    "- `Hint #2:` The bug can be fixed by replacing one word with another word\n",
    "- `Hint #3:` All of these hints are True. \n",
    "\n",
    "To test your debugging skills, try to fix the error, and then hit run for that cell containing all the code. Then, scroll down to the cell where we actually tested the code (where the only line of code is `requiredLabors(2)` and run that, to see if you fixed it.) \n",
    "\n",
    "Part of the debugging process is changing one thing, and then testing the code. Then changing something else, and testing the code once more until you completely debug the code. If it's taking you multiple tries, you're working just like a real computer scientist!"
   ]
  },
  {
   "cell_type": "markdown",
   "metadata": {},
   "source": [
    "## Analyzing our Results\n",
    "1. What reasons do you think underlie these rulings? Does the Mishnah give you any clues about the “why” of each ruling?\n",
    "\n",
    "\n",
    "\n",
    "2. Did checking your answers against the code, and finding errors help you in understanding the Mishnah? Why or why not? Can you brainstorm other ways computer science could be used to help us learn Mishnah?\n",
    "\n",
    "\n",
    "\n",
    "3. If you were the Gemara, what questions would you ask about this Mishnah?\n",
    "\n"
   ]
  }
 ],
 "metadata": {
  "kernelspec": {
   "display_name": "educationProj",
   "language": "python",
   "name": "educationproj"
  },
  "language_info": {
   "codemirror_mode": {
    "name": "ipython",
    "version": 2
   },
   "file_extension": ".py",
   "mimetype": "text/x-python",
   "name": "python",
   "nbconvert_exporter": "python",
   "pygments_lexer": "ipython2",
   "version": "2.7.10"
  }
 },
 "nbformat": 4,
 "nbformat_minor": 2
}
